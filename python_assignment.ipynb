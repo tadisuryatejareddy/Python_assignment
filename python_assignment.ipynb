{
 "cells": [
  {
   "cell_type": "code",
   "execution_count": 1,
   "metadata": {},
   "outputs": [],
   "source": [
    "import pandas as pd\n",
    "import numpy as np\n",
    "import matplotlib.pyplot as plt"
   ]
  },
  {
   "cell_type": "code",
   "execution_count": 2,
   "metadata": {},
   "outputs": [],
   "source": [
    "dataset=pd.read_csv(\"Logfile.csv\");"
   ]
  },
  {
   "cell_type": "code",
   "execution_count": 3,
   "metadata": {},
   "outputs": [
    {
     "name": "stdout",
     "output_type": "stream",
     "text": [
      "  User ID  Login Logout\n",
      "0  IN-120   2:00   9:00\n",
      "1  IN-121   5:00  10:00\n",
      "2  IN-122   8:00  12:04\n",
      "3  IN-123   5:00  10:00\n",
      "4  IN-124  10:00  10:46\n"
     ]
    }
   ],
   "source": [
    "print(dataset.head())"
   ]
  },
  {
   "cell_type": "code",
   "execution_count": 4,
   "metadata": {},
   "outputs": [
    {
     "name": "stdout",
     "output_type": "stream",
     "text": [
      "  User ID  Login Logout  time\n",
      "0  IN-120   2:00   9:00     7\n",
      "1  IN-121   5:00  10:00     5\n",
      "2  IN-122   8:00  12:04     4\n",
      "3  IN-123   5:00  10:00     5\n",
      "4  IN-124  10:00  10:46     0\n"
     ]
    }
   ],
   "source": [
    "dataset['time']=dataset.Logout.str.slice(-5,-3).astype(int)-dataset.Login.str.slice(-5,-3).astype(int)\n",
    "print(dataset.head())"
   ]
  },
  {
   "cell_type": "code",
   "execution_count": 5,
   "metadata": {},
   "outputs": [],
   "source": [
    "for x in dataset.time.values:\n",
    "    if x<0:\n",
    "        x+=24\n",
    "        "
   ]
  },
  {
   "cell_type": "code",
   "execution_count": 6,
   "metadata": {},
   "outputs": [
    {
     "name": "stdout",
     "output_type": "stream",
     "text": [
      "    User ID  Login Logout  time\n",
      "0    IN-120   2:00   9:00     7\n",
      "1    IN-121   5:00  10:00     5\n",
      "2    IN-122   8:00  12:04     4\n",
      "3    IN-123   5:00  10:00     5\n",
      "5    IN-125   9:00  20:00    11\n",
      "6    IN-126   6:00  15:00     9\n",
      "7    IN-127   8:00  16:00     8\n",
      "8    IN-128   3:00   9:00     6\n",
      "9    IN-129   9:00  13:00     4\n",
      "10   IN-130  10:00  14:00     4\n",
      "11   IN-131  11:00  15:00     4\n",
      "12   IN-132  12:00  16:00     4\n",
      "13   IN-133  13:00  17:00     4\n",
      "14   IN-134  14:00  18:00     4\n",
      "15   IN-135  15:00  19:00     4\n",
      "16   IN-136  16:00  20:00     4\n",
      "17   IN-137  17:00  21:00     4\n",
      "18   IN-138  18:00  22:00     4\n",
      "19   IN-139  19:00  23:00     4\n",
      "24   IN-144   0:00   4:00     4\n",
      "25   IN-145   1:00   5:00     4\n",
      "26   IN-146   2:00   6:00     4\n",
      "27   IN-147   3:00   7:00     4\n",
      "28   IN-148   4:00   8:00     4\n",
      "29   IN-149   5:00   9:00     4\n",
      "30   IN-150   6:00  10:00     4\n",
      "31   IN-151   7:00  11:00     4\n",
      "32   IN-152   8:00  12:00     4\n",
      "33   IN-153   9:00  13:00     4\n",
      "34   IN-154  10:00  14:00     4\n",
      "..      ...    ...    ...   ...\n",
      "66   IN-186  18:00  22:00     4\n",
      "67   IN-187  19:00  23:00     4\n",
      "72   IN-192   0:00   4:00     4\n",
      "73   IN-193   1:00   5:00     4\n",
      "74   IN-194   2:00   6:00     4\n",
      "75   IN-195   3:00   7:00     4\n",
      "76   IN-196   4:00   8:00     4\n",
      "77   IN-197   5:00   9:00     4\n",
      "78   IN-198   6:00  10:00     4\n",
      "79   IN-199   7:00  11:00     4\n",
      "80   IN-200   8:00  12:00     4\n",
      "81   IN-201   9:00  13:00     4\n",
      "82   IN-202  10:00  14:00     4\n",
      "83   IN-203  11:00  15:00     4\n",
      "84   IN-204  12:00  16:00     4\n",
      "85   IN-205  13:00  17:00     4\n",
      "86   IN-206  14:00  18:00     4\n",
      "87   IN-207  15:00  19:00     4\n",
      "88   IN-208  16:00  20:00     4\n",
      "89   IN-209  17:00  21:00     4\n",
      "90   IN-210  18:00  22:00     4\n",
      "91   IN-211  19:00  23:00     4\n",
      "96   IN-216   6:00  13:00     7\n",
      "97   IN-217   7:00  14:00     7\n",
      "98   IN-218   8:00  15:00     7\n",
      "99   IN-219   9:00  16:00     7\n",
      "100  IN-220  10:00  17:00     7\n",
      "101  IN-221  11:00  18:00     7\n",
      "102  IN-222  12:00  19:00     7\n",
      "103  IN-223  13:00  20:00     7\n",
      "\n",
      "[87 rows x 4 columns]\n"
     ]
    }
   ],
   "source": [
    "a=dataset[dataset[\"time\"]>=4]\n",
    "print(a)"
   ]
  },
  {
   "cell_type": "code",
   "execution_count": 7,
   "metadata": {},
   "outputs": [
    {
     "name": "stdout",
     "output_type": "stream",
     "text": [
      "4.540229885057471\n"
     ]
    }
   ],
   "source": [
    "x=a[\"time\"].mean()\n",
    "print(x)"
   ]
  },
  {
   "cell_type": "code",
   "execution_count": 8,
   "metadata": {},
   "outputs": [
    {
     "name": "stdout",
     "output_type": "stream",
     "text": [
      "[4.540229885057471, 9.080459770114942, 13.620689655172413, 18.160919540229884, 22.701149425287355]\n"
     ]
    }
   ],
   "source": [
    "list1=[x,2*x,3*x,4*x,5*x]\n",
    "print(list1)"
   ]
  },
  {
   "cell_type": "code",
   "execution_count": 10,
   "metadata": {},
   "outputs": [],
   "source": [
    "list2=['1-Day','2-Days','3-Days','4-Days','5-Days']\n"
   ]
  },
  {
   "cell_type": "code",
   "execution_count": 11,
   "metadata": {},
   "outputs": [
    {
     "data": {
      "text/plain": [
       "Text(0.5,1,'Mean working time of employees')"
      ]
     },
     "execution_count": 11,
     "metadata": {},
     "output_type": "execute_result"
    },
    {
     "data": {
      "image/png": "[encoded data removed]",
      "text/plain": [
       "<Figure size 432x288 with 1 Axes>"
      ]
     },
     "metadata": {},
     "output_type": "display_data"
    }
   ],
   "source": [
    "plt.bar(list2,list1)\n",
    "plt.xlabel(\"No of working days\")\n",
    "plt.ylabel(\"Working time(hours)\")\n",
    "plt.title(\"Mean working time of employees\")"
   ]
  },
  {
   "cell_type": "code",
   "execution_count": null,
   "metadata": {},
   "outputs": [],
   "source": []
  },
  {
   "cell_type": "code",
   "execution_count": null,
   "metadata": {},
   "outputs": [],
   "source": []
  }
 ],
 "metadata": {
  "kernelspec": {
   "display_name": "Python 3",
   "language": "python",
   "name": "python3"
  },
  "language_info": {
   "codemirror_mode": {
    "name": "ipython",
    "version": 3
   },
   "file_extension": ".py",
   "mimetype": "text/x-python",
   "name": "python",
   "nbconvert_exporter": "python",
   "pygments_lexer": "ipython3",
   "version": "3.6.5"
  }
 },
 "nbformat": 4,
 "nbformat_minor": 2
}
